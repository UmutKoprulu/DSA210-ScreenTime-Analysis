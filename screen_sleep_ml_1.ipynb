{
 "cells": [
  {
   "cell_type": "markdown",
   "id": "456db1c8",
   "metadata": {},
   "source": [
    "# DSA210 Project: Screen Time & Study Time Analysis\n",
    "Author: Umut Köprülü"
   ]
  },
  {
   "cell_type": "code",
   "execution_count": null,
   "id": "80cc1d22",
   "metadata": {},
   "outputs": [],
   "source": [
    "import pandas as pd\n",
    "import matplotlib.pyplot as plt\n",
    "import seaborn as sns\n",
    "import numpy as np\n",
    "from sklearn.linear_model import LinearRegression\n",
    "from sklearn.tree import DecisionTreeRegressor\n",
    "from sklearn.ensemble import RandomForestRegressor\n",
    "from sklearn.model_selection import train_test_split\n",
    "from sklearn.metrics import r2_score, mean_absolute_error, mean_squared_error"
   ]
  },
  {
   "cell_type": "code",
   "execution_count": null,
   "id": "dd34aa12",
   "metadata": {},
   "outputs": [],
   "source": [
    "df = pd.read_excel(\"ScreenSleepStudyData_Adjusted.xlsx\")\n",
    "df_clean = df.dropna(subset=[\"Phone Usage (min)\", \"Computer Usage (hrs)\", \"Sleep Duration (hrs)\", \"Study Time (hrs)\"])\n",
    "X = df_clean[[\"Phone Usage (min)\", \"Computer Usage (hrs)\", \"Sleep Duration (hrs)\"]]\n",
    "y = df_clean[\"Study Time (hrs)\"]\n",
    "X_train, X_test, y_train, y_test = train_test_split(X, y, test_size=0.2, random_state=42)"
   ]
  },
  {
   "cell_type": "markdown",
   "id": "feefcc55",
   "metadata": {},
   "source": [
    "## 🔹 Linear Regression"
   ]
  },
  {
   "cell_type": "code",
   "execution_count": null,
   "id": "7475a4b1",
   "metadata": {},
   "outputs": [],
   "source": [
    "lr_model = LinearRegression()\n",
    "lr_model.fit(X_train, y_train)\n",
    "lr_pred = lr_model.predict(X_test)\n",
    "\n",
    "lr_r2 = r2_score(y_test, lr_pred)\n",
    "lr_mae = mean_absolute_error(y_test, lr_pred)\n",
    "lr_rmse = np.sqrt(mean_squared_error(y_test, lr_pred))\n",
    "\n",
    "print(f\"R²: {lr_r2:.4f}\")\n",
    "print(f\"MAE: {lr_mae:.2f} hours\")\n",
    "print(f\"RMSE: {lr_rmse:.2f} hours\")"
   ]
  },
  {
   "cell_type": "markdown",
   "id": "0d6bcea3",
   "metadata": {},
   "source": [
    "## 🔹 Decision Tree Regressor"
   ]
  },
  {
   "cell_type": "code",
   "execution_count": null,
   "id": "1f1b20b5",
   "metadata": {},
   "outputs": [],
   "source": [
    "tree_model = DecisionTreeRegressor(random_state=42)\n",
    "tree_model.fit(X_train, y_train)\n",
    "tree_pred = tree_model.predict(X_test)\n",
    "\n",
    "tree_r2 = r2_score(y_test, tree_pred)\n",
    "tree_mae = mean_absolute_error(y_test, tree_pred)\n",
    "tree_rmse = np.sqrt(mean_squared_error(y_test, tree_pred))\n",
    "\n",
    "print(f\"R²: {tree_r2:.4f}\")\n",
    "print(f\"MAE: {tree_mae:.2f} hours\")\n",
    "print(f\"RMSE: {tree_rmse:.2f} hours\")"
   ]
  },
  {
   "cell_type": "markdown",
   "id": "f6b3f449",
   "metadata": {},
   "source": [
    "## 🔹 Random Forest Regressor"
   ]
  },
  {
   "cell_type": "code",
   "execution_count": null,
   "id": "e0ccdeca",
   "metadata": {},
   "outputs": [],
   "source": [
    "rf_model = RandomForestRegressor(random_state=42)\n",
    "rf_model.fit(X_train, y_train)\n",
    "rf_pred = rf_model.predict(X_test)\n",
    "\n",
    "rf_r2 = r2_score(y_test, rf_pred)\n",
    "rf_mae = mean_absolute_error(y_test, rf_pred)\n",
    "rf_rmse = np.sqrt(mean_squared_error(y_test, rf_pred))\n",
    "\n",
    "print(f\"R²: {rf_r2:.4f}\")\n",
    "print(f\"MAE: {rf_mae:.2f} hours\")\n",
    "print(f\"RMSE: {rf_rmse:.2f} hours\")"
   ]
  },
  {
   "cell_type": "markdown",
   "id": "eeb4da1a",
   "metadata": {},
   "source": [
    "## 📊 Model Karşılaştırması"
   ]
  },
  {
   "cell_type": "code",
   "execution_count": null,
   "id": "26aeb5d4",
   "metadata": {},
   "outputs": [],
   "source": [
    "results = pd.DataFrame({\n",
    "    \"Model\": [\"Linear Regression\", \"Decision Tree\", \"Random Forest\"],\n",
    "    \"R² Score\": [lr_r2, tree_r2, rf_r2],\n",
    "    \"MAE\": [lr_mae, tree_mae, rf_mae],\n",
    "    \"RMSE\": [lr_rmse, tree_rmse, rf_rmse]\n",
    "})\n",
    "results"
   ]
  }
 ],
 "metadata": {},
 "nbformat": 4,
 "nbformat_minor": 5
}